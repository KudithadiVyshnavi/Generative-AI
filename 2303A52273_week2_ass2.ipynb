{
  "nbformat": 4,
  "nbformat_minor": 0,
  "metadata": {
    "colab": {
      "provenance": [],
      "authorship_tag": "ABX9TyNKeyxCgrIa9AwO9ti0F40C",
      "include_colab_link": true
    },
    "kernelspec": {
      "name": "python3",
      "display_name": "Python 3"
    },
    "language_info": {
      "name": "python"
    }
  },
  "cells": [
    {
      "cell_type": "markdown",
      "metadata": {
        "id": "view-in-github",
        "colab_type": "text"
      },
      "source": [
        "<a href=\"https://colab.research.google.com/github/KudithadiVyshnavi/Generative-AI/blob/main/2303A52273_week2_ass2.ipynb\" target=\"_parent\"><img src=\"https://colab.research.google.com/assets/colab-badge.svg\" alt=\"Open In Colab\"/></a>"
      ]
    },
    {
      "cell_type": "markdown",
      "source": [
        "QUESTION 1"
      ],
      "metadata": {
        "id": "P8kBMJvLP0D8"
      }
    },
    {
      "cell_type": "code",
      "execution_count": 2,
      "metadata": {
        "colab": {
          "base_uri": "https://localhost:8080/"
        },
        "id": "PTHE3ZNvNG2f",
        "outputId": "da791928-c1df-4418-f4cb-bd6a6ab6b74e"
      },
      "outputs": [
        {
          "output_type": "stream",
          "name": "stdout",
          "text": [
            "Optimal number of units of A (x): 2.0\n",
            "Optimal number of units of B (y): 3.0\n",
            "Maximum profit: Rs 27.0\n"
          ]
        }
      ],
      "source": [
        "from scipy.optimize import linprog\n",
        "c = [-6, -5]\n",
        "A = [[1, 1], [3, 2]]\n",
        "b = [5, 12]\n",
        "x_bounds = (0, None)\n",
        "y_bounds = (0, None)\n",
        "result = linprog(c, A_ub=A, b_ub=b, bounds=[x_bounds, y_bounds], method='highs')\n",
        "if result.success:\n",
        "    print(f\"Optimal number of units of A (x): {result.x[0]}\")\n",
        "    print(f\"Optimal number of units of B (y): {result.x[1]}\")\n",
        "    print(f\"Maximum profit: Rs {-result.fun}\")\n",
        "else:\n",
        "    print(\"No solution found.\")\n"
      ]
    },
    {
      "cell_type": "markdown",
      "source": [
        "QUESTION 2"
      ],
      "metadata": {
        "id": "H6BGMUMoQ2jE"
      }
    },
    {
      "cell_type": "code",
      "source": [
        "from scipy.optimize import linprog\n",
        "profit_per_hectare = [-50, -120]\n",
        "constraints = [\n",
        "    [7000, 2000],\n",
        "    [10, 30],\n",
        "    [1, 1]\n",
        "]\n",
        "bounds = [700000, 1200, 110]\n",
        "x_bounds = (0, None)\n",
        "y_bounds = (0, None)\n",
        "result = linprog(\n",
        "    c=profit_per_hectare,\n",
        "    A_ub=constraints,\n",
        "    b_ub=bounds,\n",
        "    bounds=[x_bounds, y_bounds],\n",
        "    method='highs'\n",
        ")\n",
        "if result.success:\n",
        "    optimal_wheat = result.x[0]\n",
        "    optimal_barley = result.x[1]\n",
        "    optimal_profit = -result.fun\n",
        "    print(\"Optimal Solution:\")\n",
        "    print(f\"Wheat: {optimal_wheat:.2f} hectares\")\n",
        "    print(f\"Barley: {optimal_barley:.2f} hectares\")\n",
        "    print(f\"Maximum Profit: Rs. {optimal_profit:.2f}\")\n",
        "else:\n",
        "    print(\"Optimization failed:\", result.message)"
      ],
      "metadata": {
        "colab": {
          "base_uri": "https://localhost:8080/"
        },
        "id": "6lr8TarfQE_j",
        "outputId": "e73db77a-7f4b-4730-af85-73b8b619b63d"
      },
      "execution_count": 4,
      "outputs": [
        {
          "output_type": "stream",
          "name": "stdout",
          "text": [
            "Optimal Solution:\n",
            "Wheat: 97.89 hectares\n",
            "Barley: 7.37 hectares\n",
            "Maximum Profit: Rs. 5778.95\n"
          ]
        }
      ]
    }
  ]
}