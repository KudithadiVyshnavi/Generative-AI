{
  "nbformat": 4,
  "nbformat_minor": 0,
  "metadata": {
    "colab": {
      "provenance": [],
      "authorship_tag": "ABX9TyM4/FtG5dKjBNsnbhhsNk8t",
      "include_colab_link": true
    },
    "kernelspec": {
      "name": "python3",
      "display_name": "Python 3"
    },
    "language_info": {
      "name": "python"
    }
  },
  "cells": [
    {
      "cell_type": "markdown",
      "metadata": {
        "id": "view-in-github",
        "colab_type": "text"
      },
      "source": [
        "<a href=\"https://colab.research.google.com/github/KudithadiVyshnavi/Generative-AI/blob/main/2303A52273_week3_ASS3.ipynb\" target=\"_parent\"><img src=\"https://colab.research.google.com/assets/colab-badge.svg\" alt=\"Open In Colab\"/></a>"
      ]
    },
    {
      "cell_type": "markdown",
      "source": [
        "QUESTION 1\n",
        " Write Python code without using any libraries to find the value of x at which the function f(x) shown in equation (1) has minimum value. Consider Gradient Descent Algorithm.\n",
        "f (x) = 5x4 + 3x2 + 10\n",
        ">\n",
        "\n"
      ],
      "metadata": {
        "id": "gPn_MmyBDGvy"
      }
    },
    {
      "cell_type": "code",
      "execution_count": 1,
      "metadata": {
        "colab": {
          "base_uri": "https://localhost:8080/"
        },
        "id": "SeAFqdUJAR9s",
        "outputId": "554e7d21-103c-437a-af50-c2ec29d9722b"
      },
      "outputs": [
        {
          "output_type": "stream",
          "name": "stdout",
          "text": [
            "The value of x that minimizes f(x) is approximately: 0\n"
          ]
        }
      ],
      "source": [
        "def f(x):\n",
        "    return 5 * x**4 + 3 * x**2 + 10\n",
        "def gradient_f(x):\n",
        "    return 20 * x**3 + 6 * x\n",
        "def gradient_descent(learning_rate=0.01, max_iterations=1000, tolerance=1e-6):\n",
        "    x = 0\n",
        "    for i in range(max_iterations):\n",
        "        grad = gradient_f(x)\n",
        "        x_new = x - learning_rate * grad\n",
        "        if abs(x_new - x) < tolerance:\n",
        "            break\n",
        "\n",
        "        x = x_new\n",
        "    return x\n",
        "x_min = gradient_descent()\n",
        "print(f\"The value of x that minimizes f(x) is approximately: {x_min}\")\n"
      ]
    },
    {
      "cell_type": "markdown",
      "source": [
        "QUESTION 2\n",
        " Write Python code without using any libraries to find the value of x and y at which the\n",
        "function g(x,y) shown in equation (2) has minimum value. Consider Gradient Descent Algorithm.\n",
        "f (x) = 3x2 + 5e−y + 10"
      ],
      "metadata": {
        "id": "16khIRyrELKa"
      }
    },
    {
      "cell_type": "code",
      "source": [
        "def gradient_descent_2d(alpha=0.01, epsilon=1e-6, max_iter=10000):\n",
        "    def f_prime_x(x):\n",
        "        return 6 * x\n",
        "    def f_prime_y(y):\n",
        "        return -5 * (2.718281828459045 ** (-y))\n",
        "    x, y = 0.0, 0.0\n",
        "    for _ in range(max_iter):\n",
        "        grad_x = f_prime_x(x)\n",
        "        grad_y = f_prime_y(y)\n",
        "        if abs(grad_x) < epsilon and abs(grad_y) < epsilon:\n",
        "            break\n",
        "        x -= alpha * grad_x\n",
        "        y -= alpha * grad_y\n",
        "            return x, y\n",
        "x_min, y_min = gradient_descent_2d()\n",
        "print(f\"Minimum value of g(x, y) occurs at x = {x_min}, y = {y_min}\")\n"
      ],
      "metadata": {
        "colab": {
          "base_uri": "https://localhost:8080/"
        },
        "id": "BaUmFSl2CwHr",
        "outputId": "97d75a96-07e0-47b0-8448-2f3dec0fac3b"
      },
      "execution_count": 2,
      "outputs": [
        {
          "output_type": "stream",
          "name": "stdout",
          "text": [
            "Minimum value of g(x, y) occurs at x = 0.0, y = 6.216917124174048\n"
          ]
        }
      ]
    },
    {
      "cell_type": "markdown",
      "source": [
        "QUESTION 3\n",
        "Write Python code without using any libraries to find the value of x at which the\n",
        "sigmoid function z(x) shown in equation (3) has minimum value. Consider Gradient Descent\n",
        "Algorithm.\n",
        "z(x) = 1\n",
        "1 + e−x"
      ],
      "metadata": {
        "id": "v48mTmatFSw6"
      }
    },
    {
      "cell_type": "code",
      "source": [
        "def gradient_descent_sigmoid(alpha=0.01, epsilon=1e-6, max_iter=10000):\n",
        "    def z_prime(x):\n",
        "        exp_neg_x = 2.718281828459045 ** (-x)\n",
        "        return -exp_neg_x / ((1 + exp_neg_x) ** 2)\n",
        "    x = 0.0\n",
        "    for _ in range(max_iter):\n",
        "        grad = z_prime(x)\n",
        "        if abs(grad) < epsilon:\n",
        "            break\n",
        "        x -= alpha * grad\n",
        "    return x\n",
        "x_min_sigmoid = gradient_descent_sigmoid()\n",
        "print(f\"Minimum value of z(x) occurs at x = {x_min_sigmoid}\")\n"
      ],
      "metadata": {
        "colab": {
          "base_uri": "https://localhost:8080/"
        },
        "id": "zaVZzGbGFDfz",
        "outputId": "d3ff5262-b521-42aa-bc01-3e15e90723ac"
      },
      "execution_count": 3,
      "outputs": [
        {
          "output_type": "stream",
          "name": "stdout",
          "text": [
            "Minimum value of z(x) occurs at x = 4.510913300793877\n"
          ]
        }
      ]
    },
    {
      "cell_type": "markdown",
      "source": [
        "QUESTION 4\n",
        "Write Python code without using any libraries to find the value of optimal values of\n",
        "model parameters M and C such that the model’s Square Error Value shown in equation 4 will\n",
        "be minimum. It means model gives output close to expected output as shown in Figure 1\n",
        "![Q4.png](data:image/png;base64,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)"
      ],
      "metadata": {
        "id": "fZLRIHWQFicr"
      }
    },
    {
      "cell_type": "code",
      "source": [
        "def gradient_descent_linear(alpha=0.01, epsilon=1e-6, max_iter=10000):\n",
        "    expected_outputs = [1, 2, 3, 4, 5]\n",
        "    inputs = [1, 2, 3, 4, 5]\n",
        "    def predicted_output(m, c, x):\n",
        "        return m * x + c\n",
        "    def se_grad_m(m, c):\n",
        "        return -2 * sum((e - predicted_output(m, c, x)) * x for e, x in zip(expected_outputs, inputs))\n",
        "    def se_grad_c(m, c):\n",
        "        return -2 * sum(e - predicted_output(m, c, x) for e, x in zip(expected_outputs, inputs))\n",
        "    m, c = 0.0, 0.0\n",
        "    for _ in range(max_iter):\n",
        "        grad_m = se_grad_m(m, c)\n",
        "        grad_c = se_grad_c(m, c)\n",
        "        if abs(grad_m) < epsilon and abs(grad_c) < epsilon:\n",
        "            break\n",
        "        m -= alpha * grad_m\n",
        "        c -= alpha * grad_c\n",
        "    return m, c\n",
        "m_opt, c_opt = gradient_descent_linear()\n",
        "print(f\"Optimal values are M = {m_opt}, C = {c_opt}\")\n"
      ],
      "metadata": {
        "colab": {
          "base_uri": "https://localhost:8080/"
        },
        "id": "TNekmkgYFcsi",
        "outputId": "5d9e7f2e-9daa-4787-c7a1-9e7abb5c408a"
      },
      "execution_count": 4,
      "outputs": [
        {
          "output_type": "stream",
          "name": "stdout",
          "text": [
            "Optimal values are M = 0.9999998375829822, C = 5.863769691679814e-07\n"
          ]
        }
      ]
    }
  ]
}