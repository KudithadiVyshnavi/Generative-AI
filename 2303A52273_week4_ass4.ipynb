{
  "nbformat": 4,
  "nbformat_minor": 0,
  "metadata": {
    "colab": {
      "provenance": [],
      "authorship_tag": "ABX9TyOcO2iez87p7GAxA8g33r3a",
      "include_colab_link": true
    },
    "kernelspec": {
      "name": "python3",
      "display_name": "Python 3"
    },
    "language_info": {
      "name": "python"
    }
  },
  "cells": [
    {
      "cell_type": "markdown",
      "metadata": {
        "id": "view-in-github",
        "colab_type": "text"
      },
      "source": [
        "<a href=\"https://colab.research.google.com/github/KudithadiVyshnavi/Generative-AI/blob/main/2303A52273_week4_ass4.ipynb\" target=\"_parent\"><img src=\"https://colab.research.google.com/assets/colab-badge.svg\" alt=\"Open In Colab\"/></a>"
      ]
    },
    {
      "cell_type": "markdown",
      "source": [
        "Question 1 Design a simple ANN architecture with one input and one output layer (no hidden\n",
        "layer). Assume a linear activation function in the output layer.\n",
        "• Write Python code for a backpropagation algorithm with gradient descent optimization to\n",
        "update weights and bias parameters of the ANN model with training data shown in Table\n",
        "1.\n",
        "• Calculate the mean square error with training and testing data shown in Table 2.\n",
        "• Write Python code that reads the input data [x1, x2, and x3] from the user. Predict the\n",
        "output with deployed ANN model\n",
        "Tabela 1: Training Data\n",
        "x1 x2 x3 y\n",
        "0.1 0.2 0.3 0.14\n",
        "0.2 0.3 0.4 0.20\n",
        "0.3 0.4 0.5 0.26\n",
        "0.5 0.6 0.7 0.38\n",
        "0.1 0.3 0.5 0.22\n",
        "0.2 0.4 0.6 0.28\n",
        "0.3 0.5 0.7 0.34\n",
        "0.4 0.6 0.8 0.40\n",
        "0.5 0.7 0.1 0.22\n",
        "Tabela 2: Test Data\n",
        "x1 x2 x3 y\n",
        "0.6 0.7 0.8 0.44\n",
        "0.7 0.8 0.9 0.50"
      ],
      "metadata": {
        "id": "I2ePATJWDdTR"
      }
    },
    {
      "cell_type": "code",
      "execution_count": 2,
      "metadata": {
        "colab": {
          "base_uri": "https://localhost:8080/"
        },
        "id": "foqIdn2RB7Gp",
        "outputId": "5ec1c271-d665-4bb7-d8d2-8db3e887a1c8"
      },
      "outputs": [
        {
          "output_type": "stream",
          "name": "stdout",
          "text": [
            "Epoch 0, MSE: 0.15184971918472517\n",
            "Epoch 100, MSE: 0.0005375612408848291\n",
            "Epoch 200, MSE: 0.00021597051019334887\n",
            "Epoch 300, MSE: 0.00012495916330611958\n",
            "Epoch 400, MSE: 9.71327681263322e-05\n",
            "Epoch 500, MSE: 8.672951948940095e-05\n",
            "Epoch 600, MSE: 8.122183186266897e-05\n",
            "Epoch 700, MSE: 7.717339815998425e-05\n",
            "Epoch 800, MSE: 7.36373000272553e-05\n",
            "Epoch 900, MSE: 7.034893313925547e-05\n",
            "Trained weights: [-0.07834276  0.36522782  0.29528656]\n",
            "Trained bias: [-0.01953269]\n"
          ]
        }
      ],
      "source": [
        "import numpy as np\n",
        "X_train = np.array([[0.1, 0.2, 0.3],\n",
        "                    [0.2, 0.3, 0.4],\n",
        "                    [0.3, 0.4, 0.5],\n",
        "                    [0.5, 0.6, 0.7],\n",
        "                    [0.1, 0.3, 0.5],\n",
        "                    [0.2, 0.4, 0.6],\n",
        "                    [0.3, 0.5, 0.7],\n",
        "                    [0.4, 0.6, 0.8],\n",
        "                    [0.5, 0.7, 0.1]])\n",
        "\n",
        "y_train = np.array([0.14, 0.20, 0.26, 0.38, 0.22, 0.28, 0.34, 0.40, 0.22])\n",
        "weights = np.random.rand(3)\n",
        "bias = np.random.rand(1)\n",
        "learning_rate = 0.1\n",
        "epochs = 1000\n",
        "for epoch in range(epochs):\n",
        "    y_pred = np.dot(X_train, weights) + bias\n",
        "    error = y_pred - y_train\n",
        "    mse = np.mean(error**2)\n",
        "    gradient_w = (2 / len(X_train)) * np.dot(X_train.T, error)\n",
        "    gradient_b = (2 / len(X_train)) * np.sum(error)\n",
        "    weights -= learning_rate * gradient_w\n",
        "    bias -= learning_rate * gradient_b\n",
        "    if epoch % 100 == 0:\n",
        "        print(f\"Epoch {epoch}, MSE: {mse}\")\n",
        "print(\"Trained weights:\", weights)\n",
        "print(\"Trained bias:\", bias)\n"
      ]
    },
    {
      "cell_type": "code",
      "source": [
        "\n",
        "def predict(x1, x2, x3):\n",
        "    input_data = np.array([x1, x2, x3])\n",
        "    prediction = np.dot(input_data, weights) + bias\n",
        "    return prediction\n",
        "x1 = float(input(\"Enter value for x1: \"))\n",
        "x2 = float(input(\"Enter value for x2: \"))\n",
        "x3 = float(input(\"Enter value for x3: \"))\n",
        "predicted_y = predict(x1, x2, x3)\n",
        "print(f\"The predicted output y is: {predicted_y}\")\n"
      ],
      "metadata": {
        "colab": {
          "base_uri": "https://localhost:8080/"
        },
        "id": "29F6nSbcDnfY",
        "outputId": "1df8a6f3-17b7-4395-bc22-72b0e6776a6d"
      },
      "execution_count": 3,
      "outputs": [
        {
          "output_type": "stream",
          "name": "stdout",
          "text": [
            "Enter value for x1: 0.1\n",
            "Enter value for x2: 0.2\n",
            "Enter value for x3: 0.3\n",
            "The predicted output y is: [0.13426456]\n"
          ]
        }
      ]
    },
    {
      "cell_type": "markdown",
      "source": [
        "Question 2 esign a simple ANN architecture with one input and one output layer (no hidden\n",
        "layer). Assume a sigmoid activation function shown in the equation 1 in the output layer.\n",
        "f (x) = 1\n",
        "1 + e−x (1)\n",
        "• Write Python code for a backpropagation algorithm with gradient descent optimization to\n",
        "update weights and bias parameters of the ANN model with training data shown in Table Tabela 3: Training Data\n",
        "x1 x2 x3 y\n",
        "0.1 0.2 0.3 0.5349\n",
        "0.2 0.3 0.4 0.5498\n",
        "0.3 0.4 0.5 0.5646\n",
        "0.5 0.6 0.7 0.5939\n",
        "0.1 0.3 0.5 0.5548\n",
        "0.2 0.4 0.6 0.5695\n",
        "0.3 0.5 0.7 0.5842\n",
        "0.4 0.6 0.8 0.5987\n",
        "0.5 0.7 0.1 0.5548\n",
        "Tabela 4: Test Data\n",
        "x1 x2 x3 y\n",
        "0.6 0.7 0.8 0.6083\n",
        "0.7 0.8 0.9 0.6225\n",
        "• Calculate the mean square error with training and testing data shown in Table 4.\n",
        "• Write Python code that reads the input data [x1, x2, and x3] from the user. Predict the\n",
        "output with deployed ANN model"
      ],
      "metadata": {
        "id": "Wcx7dvVLFAIg"
      }
    },
    {
      "cell_type": "code",
      "source": [
        "import numpy as np\n",
        "def sigmoid(x):\n",
        "    return 1 / (1 + np.exp(-x))\n",
        "def sigmoid_derivative(x):\n",
        "    return x * (1 - x)\n",
        "X_train = np.array([[0.1, 0.2, 0.3],\n",
        "                    [0.2, 0.3, 0.4],\n",
        "                    [0.3, 0.4, 0.5],\n",
        "                    [0.5, 0.6, 0.7],\n",
        "                    [0.1, 0.3, 0.5],\n",
        "                    [0.2, 0.4, 0.6],\n",
        "                    [0.3, 0.5, 0.7],\n",
        "                    [0.4, 0.6, 0.8],\n",
        "                    [0.5, 0.7, 0.1]])\n",
        "y_train = np.array([0.5349, 0.5498, 0.5646, 0.5939, 0.5548, 0.5695, 0.5842, 0.5987, 0.5548])\n",
        "weights = np.random.rand(3)\n",
        "bias = np.random.rand(1)\n",
        "learning_rate = 0.1\n",
        "epochs = 10000\n",
        "for epoch in range(epochs):\n",
        "    z = np.dot(X_train, weights) + bias\n",
        "    y_pred = sigmoid(z)\n",
        "    error = y_pred - y_train\n",
        "    mse = np.mean(error**2)\n",
        "    d_loss_d_pred = 2 * error\n",
        "    d_pred_d_z = sigmoid_derivative(y_pred)\n",
        "    d_loss_d_z = d_loss_d_pred * d_pred_d_z\n",
        "    gradient_w = np.dot(X_train.T, d_loss_d_z) / len(X_train)\n",
        "    gradient_b = np.sum(d_loss_d_z) / len(X_train)\n",
        "    weights -= learning_rate * gradient_w\n",
        "    bias -= learning_rate * gradient_b\n",
        "    if epoch % 1000 == 0:\n",
        "        print(f\"Epoch {epoch}, MSE: {mse}\")\n",
        "print(\"Trained weights:\", weights)\n",
        "print(\"Trained bias:\", bias)\n"
      ],
      "metadata": {
        "colab": {
          "base_uri": "https://localhost:8080/"
        },
        "id": "uA19JHZ7E6_R",
        "outputId": "b4c30bc9-f605-4aca-d645-1f36ab8e43b5"
      },
      "execution_count": 5,
      "outputs": [
        {
          "output_type": "stream",
          "name": "stdout",
          "text": [
            "Epoch 0, MSE: 0.06598276229613977\n",
            "Epoch 1000, MSE: 0.00018531607877426593\n",
            "Epoch 2000, MSE: 8.387327782839396e-05\n",
            "Epoch 3000, MSE: 3.874014505158018e-05\n",
            "Epoch 4000, MSE: 1.85823165463601e-05\n",
            "Epoch 5000, MSE: 9.530969806139158e-06\n",
            "Epoch 6000, MSE: 5.435905470485724e-06\n",
            "Epoch 7000, MSE: 3.5609671836612676e-06\n",
            "Epoch 8000, MSE: 2.684419202609929e-06\n",
            "Epoch 9000, MSE: 2.258734058470474e-06\n",
            "Trained weights: [0.22647159 0.091853   0.30699816]\n",
            "Trained bias: [0.00781682]\n"
          ]
        }
      ]
    },
    {
      "cell_type": "code",
      "source": [
        "\n",
        "X_test = np.array([[0.6, 0.7, 0.8],\n",
        "                   [0.7, 0.8, 0.9]])\n",
        "y_test = np.array([0.6083, 0.6225])\n",
        "y_test_pred = sigmoid(np.dot(X_test, weights) + bias)\n",
        "mse_test = np.mean((y_test_pred - y_test) ** 2)\n",
        "print(f\"Test MSE: {mse_test}\")\n"
      ],
      "metadata": {
        "colab": {
          "base_uri": "https://localhost:8080/"
        },
        "id": "gtiPhj-QFmjx",
        "outputId": "69c80b23-fbdc-4d1d-f676-3d8ea6969b16"
      },
      "execution_count": 6,
      "outputs": [
        {
          "output_type": "stream",
          "name": "stdout",
          "text": [
            "Test MSE: 1.2100660482876232e-05\n"
          ]
        }
      ]
    },
    {
      "cell_type": "code",
      "source": [
        "\n",
        "def predict(x1, x2, x3):\n",
        "    input_data = np.array([x1, x2, x3])\n",
        "    z = np.dot(input_data, weights) + bias\n",
        "    prediction = sigmoid(z)\n",
        "    return prediction\n",
        "x1 = float(input(\"Enter value for x1: \"))\n",
        "x2 = float(input(\"Enter value for x2: \"))\n",
        "x3 = float(input(\"Enter value for x3: \"))\n",
        "predicted_y = predict(x1, x2, x3)\n",
        "print(f\"The predicted output y is: {predicted_y}\")\n"
      ],
      "metadata": {
        "colab": {
          "base_uri": "https://localhost:8080/"
        },
        "id": "uJ1m6eb-Ftkg",
        "outputId": "345f68ff-a855-4525-ad48-ad554fa17efe"
      },
      "execution_count": 7,
      "outputs": [
        {
          "output_type": "stream",
          "name": "stdout",
          "text": [
            "Enter value for x1: 0.1\n",
            "Enter value for x2: 0.2\n",
            "Enter value for x3: 0.3\n",
            "The predicted output y is: [0.5351753]\n"
          ]
        }
      ]
    }
  ]
}