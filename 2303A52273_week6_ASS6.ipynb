{
  "nbformat": 4,
  "nbformat_minor": 0,
  "metadata": {
    "colab": {
      "provenance": [],
      "authorship_tag": "ABX9TyMIoKBOw0HnnrWpYErTuaii",
      "include_colab_link": true
    },
    "kernelspec": {
      "name": "python3",
      "display_name": "Python 3"
    },
    "language_info": {
      "name": "python"
    }
  },
  "cells": [
    {
      "cell_type": "markdown",
      "metadata": {
        "id": "view-in-github",
        "colab_type": "text"
      },
      "source": [
        "<a href=\"https://colab.research.google.com/github/KudithadiVyshnavi/Generative-AI/blob/main/2303A52273_week6_ASS6.ipynb\" target=\"_parent\"><img src=\"https://colab.research.google.com/assets/colab-badge.svg\" alt=\"Open In Colab\"/></a>"
      ]
    },
    {
      "cell_type": "markdown",
      "source": [
        "1. (1 ponto) Design a multilayer ANN architecture according to the requirements shown below.\n",
        "Train, test, save (.h5) and deploy the model to predict the housing price using Keras deep\n",
        "learning library\n",
        "2. (1 ponto) Calculate training and testing error metrics\n",
        "3. (1 ponto) Build the application by loading the saved ANN model.\n",
        "Tabela 1: ANN Architecture\n",
        "Layer Neurons Activation Function\n",
        "Hidden Layer - 1 15 tanh\n",
        "Hidden Layer - 2 20 tanh\n",
        "Hidden Layer - 3 15 tanh\n",
        "Tabela 2: Training Parameters\n",
        "loss function epochs batch size error metric Optimizer\n",
        "Mean Square Error 100 16 Mean Square Error SGD\n",
        "Dataset: https://drive.google.com/file/d/1AcdENlVm5dccNyo_vgdMbneX8YVvH5R3/view?\n",
        "usp=sharing\n",
        "• Expected learning Outcomes from this assignment related to python\n",
        "– Students are able to build ANN model with python deep learning libraries\n",
        "– Students are able to deploy trained ANN model\n",
        "– Students are able to measure training and testing performance of trained model"
      ],
      "metadata": {
        "id": "z0z9Pi1GdyM2"
      }
    },
    {
      "cell_type": "code",
      "execution_count": 3,
      "metadata": {
        "id": "84ob8V7zOJrN"
      },
      "outputs": [],
      "source": [
        "import pandas as pd\n",
        "from sklearn.model_selection import train_test_split\n",
        "from sklearn.preprocessing import StandardScaler\n",
        "import numpy as np\n",
        "from sklearn.preprocessing import OneHotEncoder\n",
        "\n",
        "# Load dataset (Assuming CSV format after extracting from Google Drive)\n",
        "url = '/content/Housing.csv'  # Replace this with the actual dataset path\n",
        "df = pd.read_csv(url)\n",
        "\n",
        "# Split the dataset into input features and target variable (housing prices)\n",
        "X = df.drop('price', axis=1)  # Assuming 'price' is the target variable\n",
        "y = df['price']\n",
        "\n",
        "# Split the dataset into training and testing sets\n",
        "X_train, X_test, y_train, y_test = train_test_split(X, y, test_size=0.2, random_state=42)\n",
        "\n",
        "# Identify categorical features (columns with object dtype)\n",
        "categorical_features = X_train.select_dtypes(include=['object']).columns\n",
        "\n",
        "# Create and fit OneHotEncoder for categorical features\n",
        "encoder = OneHotEncoder(sparse_output=False, handle_unknown='ignore') # sparse=False for numpy array\n",
        "encoded_features_train = encoder.fit_transform(X_train[categorical_features])\n",
        "encoded_features_test = encoder.transform(X_test[categorical_features])\n",
        "\n",
        "# Create DataFrames for encoded features\n",
        "encoded_df_train = pd.DataFrame(encoded_features_train, columns=encoder.get_feature_names_out(categorical_features), index=X_train.index)\n",
        "encoded_df_test = pd.DataFrame(encoded_features_test, columns=encoder.get_feature_names_out(categorical_features), index=X_test.index)\n",
        "\n",
        "# Drop original categorical columns and concatenate encoded features\n",
        "X_train = X_train.drop(categorical_features, axis=1)\n",
        "X_test = X_test.drop(categorical_features, axis=1)\n",
        "X_train = pd.concat([X_train, encoded_df_train], axis=1)\n",
        "X_test = pd.concat([X_test, encoded_df_test], axis=1)\n",
        "\n",
        "\n",
        "# Normalize the data\n",
        "scaler = StandardScaler()\n",
        "X_train = scaler.fit_transform(X_train)\n",
        "X_test = scaler.transform(X_test)"
      ]
    },
    {
      "cell_type": "code",
      "source": [
        "from tensorflow.keras.models import Sequential\n",
        "from tensorflow.keras.layers import Dense\n",
        "from tensorflow.keras.optimizers import SGD\n",
        "from tensorflow.keras.metrics import MeanSquaredError\n",
        "\n",
        "# Define the ANN model\n",
        "model = Sequential()\n",
        "\n",
        "# Hidden Layer 1\n",
        "model.add(Dense(15, input_dim=X_train.shape[1], activation='tanh'))\n",
        "\n",
        "# Hidden Layer 2\n",
        "model.add(Dense(20, activation='tanh'))\n",
        "\n",
        "# Hidden Layer 3\n",
        "model.add(Dense(15, activation='tanh'))\n",
        "\n",
        "# Output layer (Assuming it's a regression problem, one neuron for price prediction)\n",
        "model.add(Dense(1))\n",
        "\n",
        "# Compile the model\n",
        "model.compile(loss='mean_squared_error',\n",
        "              optimizer=SGD(),\n",
        "              metrics=[MeanSquaredError()])\n"
      ],
      "metadata": {
        "colab": {
          "base_uri": "https://localhost:8080/"
        },
        "id": "rhp1jcvgaxSu",
        "outputId": "9372b37d-2d4e-4a99-8575-767c9a666b87"
      },
      "execution_count": 9,
      "outputs": [
        {
          "output_type": "stream",
          "name": "stderr",
          "text": [
            "/usr/local/lib/python3.11/dist-packages/keras/src/layers/core/dense.py:87: UserWarning: Do not pass an `input_shape`/`input_dim` argument to a layer. When using Sequential models, prefer using an `Input(shape)` object as the first layer in the model instead.\n",
            "  super().__init__(activity_regularizer=activity_regularizer, **kwargs)\n"
          ]
        }
      ]
    },
    {
      "cell_type": "code",
      "source": [
        "# Train the model\n",
        "history = model.fit(X_train, y_train,\n",
        "                    epochs=100,\n",
        "                    batch_size=16,\n",
        "                    validation_data=(X_test, y_test))\n"
      ],
      "metadata": {
        "colab": {
          "base_uri": "https://localhost:8080/"
        },
        "id": "nvaPGPqfa0et",
        "outputId": "67119492-521e-4aa1-8a5d-137173850646"
      },
      "execution_count": 10,
      "outputs": [
        {
          "output_type": "stream",
          "name": "stdout",
          "text": [
            "Epoch 1/100\n",
            "\u001b[1m28/28\u001b[0m \u001b[32m━━━━━━━━━━━━━━━━━━━━\u001b[0m\u001b[37m\u001b[0m \u001b[1m1s\u001b[0m 19ms/step - loss: 8994740502528.0000 - mean_squared_error: 8994740502528.0000 - val_loss: 5124491575296.0000 - val_mean_squared_error: 5124491575296.0000\n",
            "Epoch 2/100\n",
            "\u001b[1m28/28\u001b[0m \u001b[32m━━━━━━━━━━━━━━━━━━━━\u001b[0m\u001b[37m\u001b[0m \u001b[1m0s\u001b[0m 8ms/step - loss: 3412421771264.0000 - mean_squared_error: 3412421771264.0000 - val_loss: 5055092097024.0000 - val_mean_squared_error: 5055092097024.0000\n",
            "Epoch 3/100\n",
            "\u001b[1m28/28\u001b[0m \u001b[32m━━━━━━━━━━━━━━━━━━━━\u001b[0m\u001b[37m\u001b[0m \u001b[1m0s\u001b[0m 7ms/step - loss: 3114381344768.0000 - mean_squared_error: 3114381344768.0000 - val_loss: 5222295928832.0000 - val_mean_squared_error: 5222295928832.0000\n",
            "Epoch 4/100\n",
            "\u001b[1m28/28\u001b[0m \u001b[32m━━━━━━━━━━━━━━━━━━━━\u001b[0m\u001b[37m\u001b[0m \u001b[1m0s\u001b[0m 12ms/step - loss: 2941646274560.0000 - mean_squared_error: 2941646274560.0000 - val_loss: 5054572527616.0000 - val_mean_squared_error: 5054572527616.0000\n",
            "Epoch 5/100\n",
            "\u001b[1m28/28\u001b[0m \u001b[32m━━━━━━━━━━━━━━━━━━━━\u001b[0m\u001b[37m\u001b[0m \u001b[1m1s\u001b[0m 14ms/step - loss: 3659414110208.0000 - mean_squared_error: 3659414110208.0000 - val_loss: 5058540863488.0000 - val_mean_squared_error: 5058540863488.0000\n",
            "Epoch 6/100\n",
            "\u001b[1m28/28\u001b[0m \u001b[32m━━━━━━━━━━━━━━━━━━━━\u001b[0m\u001b[37m\u001b[0m \u001b[1m1s\u001b[0m 13ms/step - loss: 3305232662528.0000 - mean_squared_error: 3305232662528.0000 - val_loss: 5295785902080.0000 - val_mean_squared_error: 5295785902080.0000\n",
            "Epoch 7/100\n",
            "\u001b[1m28/28\u001b[0m \u001b[32m━━━━━━━━━━━━━━━━━━━━\u001b[0m\u001b[37m\u001b[0m \u001b[1m0s\u001b[0m 9ms/step - loss: 3436822396928.0000 - mean_squared_error: 3436822396928.0000 - val_loss: 5113284919296.0000 - val_mean_squared_error: 5113284919296.0000\n",
            "Epoch 8/100\n",
            "\u001b[1m28/28\u001b[0m \u001b[32m━━━━━━━━━━━━━━━━━━━━\u001b[0m\u001b[37m\u001b[0m \u001b[1m1s\u001b[0m 9ms/step - loss: 2941846028288.0000 - mean_squared_error: 2941846028288.0000 - val_loss: 5094594576384.0000 - val_mean_squared_error: 5094594576384.0000\n",
            "Epoch 9/100\n",
            "\u001b[1m28/28\u001b[0m \u001b[32m━━━━━━━━━━━━━━━━━━━━\u001b[0m\u001b[37m\u001b[0m \u001b[1m0s\u001b[0m 13ms/step - loss: 2770133057536.0000 - mean_squared_error: 2770133057536.0000 - val_loss: 5210014482432.0000 - val_mean_squared_error: 5210014482432.0000\n",
            "Epoch 10/100\n",
            "\u001b[1m28/28\u001b[0m \u001b[32m━━━━━━━━━━━━━━━━━━━━\u001b[0m\u001b[37m\u001b[0m \u001b[1m1s\u001b[0m 12ms/step - loss: 3046491029504.0000 - mean_squared_error: 3046491029504.0000 - val_loss: 5057139965952.0000 - val_mean_squared_error: 5057139965952.0000\n",
            "Epoch 11/100\n",
            "\u001b[1m28/28\u001b[0m \u001b[32m━━━━━━━━━━━━━━━━━━━━\u001b[0m\u001b[37m\u001b[0m \u001b[1m1s\u001b[0m 15ms/step - loss: 3194255835136.0000 - mean_squared_error: 3194255835136.0000 - val_loss: 5357039517696.0000 - val_mean_squared_error: 5357039517696.0000\n",
            "Epoch 12/100\n",
            "\u001b[1m28/28\u001b[0m \u001b[32m━━━━━━━━━━━━━━━━━━━━\u001b[0m\u001b[37m\u001b[0m \u001b[1m1s\u001b[0m 18ms/step - loss: 2671809134592.0000 - mean_squared_error: 2671809134592.0000 - val_loss: 5067330551808.0000 - val_mean_squared_error: 5067330551808.0000\n",
            "Epoch 13/100\n",
            "\u001b[1m28/28\u001b[0m \u001b[32m━━━━━━━━━━━━━━━━━━━━\u001b[0m\u001b[37m\u001b[0m \u001b[1m0s\u001b[0m 11ms/step - loss: 2776945393664.0000 - mean_squared_error: 2776945393664.0000 - val_loss: 5194833723392.0000 - val_mean_squared_error: 5194833723392.0000\n",
            "Epoch 14/100\n",
            "\u001b[1m28/28\u001b[0m \u001b[32m━━━━━━━━━━━━━━━━━━━━\u001b[0m\u001b[37m\u001b[0m \u001b[1m0s\u001b[0m 4ms/step - loss: 3073475870720.0000 - mean_squared_error: 3073475870720.0000 - val_loss: 5181298180096.0000 - val_mean_squared_error: 5181298180096.0000\n",
            "Epoch 15/100\n",
            "\u001b[1m28/28\u001b[0m \u001b[32m━━━━━━━━━━━━━━━━━━━━\u001b[0m\u001b[37m\u001b[0m \u001b[1m0s\u001b[0m 5ms/step - loss: 3116506546176.0000 - mean_squared_error: 3116506546176.0000 - val_loss: 5735466926080.0000 - val_mean_squared_error: 5735466926080.0000\n",
            "Epoch 16/100\n",
            "\u001b[1m28/28\u001b[0m \u001b[32m━━━━━━━━━━━━━━━━━━━━\u001b[0m\u001b[37m\u001b[0m \u001b[1m0s\u001b[0m 5ms/step - loss: 3241220243456.0000 - mean_squared_error: 3241220243456.0000 - val_loss: 5198751727616.0000 - val_mean_squared_error: 5198751727616.0000\n",
            "Epoch 17/100\n",
            "\u001b[1m28/28\u001b[0m \u001b[32m━━━━━━━━━━━━━━━━━━━━\u001b[0m\u001b[37m\u001b[0m \u001b[1m0s\u001b[0m 5ms/step - loss: 3111472857088.0000 - mean_squared_error: 3111472857088.0000 - val_loss: 5127016022016.0000 - val_mean_squared_error: 5127016022016.0000\n",
            "Epoch 18/100\n",
            "\u001b[1m28/28\u001b[0m \u001b[32m━━━━━━━━━━━━━━━━━━━━\u001b[0m\u001b[37m\u001b[0m \u001b[1m0s\u001b[0m 6ms/step - loss: 3270747881472.0000 - mean_squared_error: 3270747881472.0000 - val_loss: 5332311474176.0000 - val_mean_squared_error: 5332311474176.0000\n",
            "Epoch 19/100\n",
            "\u001b[1m28/28\u001b[0m \u001b[32m━━━━━━━━━━━━━━━━━━━━\u001b[0m\u001b[37m\u001b[0m \u001b[1m0s\u001b[0m 4ms/step - loss: 3136971079680.0000 - mean_squared_error: 3136971079680.0000 - val_loss: 5541766103040.0000 - val_mean_squared_error: 5541766103040.0000\n",
            "Epoch 20/100\n",
            "\u001b[1m28/28\u001b[0m \u001b[32m━━━━━━━━━━━━━━━━━━━━\u001b[0m\u001b[37m\u001b[0m \u001b[1m0s\u001b[0m 6ms/step - loss: 3245180190720.0000 - mean_squared_error: 3245180190720.0000 - val_loss: 5838654668800.0000 - val_mean_squared_error: 5838654668800.0000\n",
            "Epoch 21/100\n",
            "\u001b[1m28/28\u001b[0m \u001b[32m━━━━━━━━━━━━━━━━━━━━\u001b[0m\u001b[37m\u001b[0m \u001b[1m0s\u001b[0m 5ms/step - loss: 3393033338880.0000 - mean_squared_error: 3393033338880.0000 - val_loss: 5170765234176.0000 - val_mean_squared_error: 5170765234176.0000\n",
            "Epoch 22/100\n",
            "\u001b[1m28/28\u001b[0m \u001b[32m━━━━━━━━━━━━━━━━━━━━\u001b[0m\u001b[37m\u001b[0m \u001b[1m0s\u001b[0m 5ms/step - loss: 2932837187584.0000 - mean_squared_error: 2932837187584.0000 - val_loss: 5507524329472.0000 - val_mean_squared_error: 5507524329472.0000\n",
            "Epoch 23/100\n",
            "\u001b[1m28/28\u001b[0m \u001b[32m━━━━━━━━━━━━━━━━━━━━\u001b[0m\u001b[37m\u001b[0m \u001b[1m0s\u001b[0m 5ms/step - loss: 3017326460928.0000 - mean_squared_error: 3017326460928.0000 - val_loss: 5082043645952.0000 - val_mean_squared_error: 5082043645952.0000\n",
            "Epoch 24/100\n",
            "\u001b[1m28/28\u001b[0m \u001b[32m━━━━━━━━━━━━━━━━━━━━\u001b[0m\u001b[37m\u001b[0m \u001b[1m0s\u001b[0m 5ms/step - loss: 2749134274560.0000 - mean_squared_error: 2749134274560.0000 - val_loss: 5064286011392.0000 - val_mean_squared_error: 5064286011392.0000\n",
            "Epoch 25/100\n",
            "\u001b[1m28/28\u001b[0m \u001b[32m━━━━━━━━━━━━━━━━━━━━\u001b[0m\u001b[37m\u001b[0m \u001b[1m0s\u001b[0m 8ms/step - loss: 3302009077760.0000 - mean_squared_error: 3302009077760.0000 - val_loss: 5685713567744.0000 - val_mean_squared_error: 5685713567744.0000\n",
            "Epoch 26/100\n",
            "\u001b[1m28/28\u001b[0m \u001b[32m━━━━━━━━━━━━━━━━━━━━\u001b[0m\u001b[37m\u001b[0m \u001b[1m0s\u001b[0m 8ms/step - loss: 3343506997248.0000 - mean_squared_error: 3343506997248.0000 - val_loss: 5497900498944.0000 - val_mean_squared_error: 5497900498944.0000\n",
            "Epoch 27/100\n",
            "\u001b[1m28/28\u001b[0m \u001b[32m━━━━━━━━━━━━━━━━━━━━\u001b[0m\u001b[37m\u001b[0m \u001b[1m0s\u001b[0m 7ms/step - loss: 2957912834048.0000 - mean_squared_error: 2957912834048.0000 - val_loss: 5233876926464.0000 - val_mean_squared_error: 5233876926464.0000\n",
            "Epoch 28/100\n",
            "\u001b[1m28/28\u001b[0m \u001b[32m━━━━━━━━━━━━━━━━━━━━\u001b[0m\u001b[37m\u001b[0m \u001b[1m0s\u001b[0m 8ms/step - loss: 3498622844928.0000 - mean_squared_error: 3498622844928.0000 - val_loss: 5335141580800.0000 - val_mean_squared_error: 5335141580800.0000\n",
            "Epoch 29/100\n",
            "\u001b[1m28/28\u001b[0m \u001b[32m━━━━━━━━━━━━━━━━━━━━\u001b[0m\u001b[37m\u001b[0m \u001b[1m0s\u001b[0m 7ms/step - loss: 3320458510336.0000 - mean_squared_error: 3320458510336.0000 - val_loss: 5162919264256.0000 - val_mean_squared_error: 5162919264256.0000\n",
            "Epoch 30/100\n",
            "\u001b[1m28/28\u001b[0m \u001b[32m━━━━━━━━━━━━━━━━━━━━\u001b[0m\u001b[37m\u001b[0m \u001b[1m0s\u001b[0m 8ms/step - loss: 2964737228800.0000 - mean_squared_error: 2964737228800.0000 - val_loss: 5212374827008.0000 - val_mean_squared_error: 5212374827008.0000\n",
            "Epoch 31/100\n",
            "\u001b[1m28/28\u001b[0m \u001b[32m━━━━━━━━━━━━━━━━━━━━\u001b[0m\u001b[37m\u001b[0m \u001b[1m0s\u001b[0m 8ms/step - loss: 2877058973696.0000 - mean_squared_error: 2877058973696.0000 - val_loss: 5131320950784.0000 - val_mean_squared_error: 5131320950784.0000\n",
            "Epoch 32/100\n",
            "\u001b[1m28/28\u001b[0m \u001b[32m━━━━━━━━━━━━━━━━━━━━\u001b[0m\u001b[37m\u001b[0m \u001b[1m0s\u001b[0m 8ms/step - loss: 3097156911104.0000 - mean_squared_error: 3097156911104.0000 - val_loss: 5140871380992.0000 - val_mean_squared_error: 5140871380992.0000\n",
            "Epoch 33/100\n",
            "\u001b[1m28/28\u001b[0m \u001b[32m━━━━━━━━━━━━━━━━━━━━\u001b[0m\u001b[37m\u001b[0m \u001b[1m0s\u001b[0m 5ms/step - loss: 2937074221056.0000 - mean_squared_error: 2937074221056.0000 - val_loss: 5167901573120.0000 - val_mean_squared_error: 5167901573120.0000\n",
            "Epoch 34/100\n",
            "\u001b[1m28/28\u001b[0m \u001b[32m━━━━━━━━━━━━━━━━━━━━\u001b[0m\u001b[37m\u001b[0m \u001b[1m0s\u001b[0m 4ms/step - loss: 3238029164544.0000 - mean_squared_error: 3238029164544.0000 - val_loss: 5547536941056.0000 - val_mean_squared_error: 5547536941056.0000\n",
            "Epoch 35/100\n",
            "\u001b[1m28/28\u001b[0m \u001b[32m━━━━━━━━━━━━━━━━━━━━\u001b[0m\u001b[37m\u001b[0m \u001b[1m0s\u001b[0m 5ms/step - loss: 2934934601728.0000 - mean_squared_error: 2934934601728.0000 - val_loss: 5209541574656.0000 - val_mean_squared_error: 5209541574656.0000\n",
            "Epoch 36/100\n",
            "\u001b[1m28/28\u001b[0m \u001b[32m━━━━━━━━━━━━━━━━━━━━\u001b[0m\u001b[37m\u001b[0m \u001b[1m0s\u001b[0m 4ms/step - loss: 3113970827264.0000 - mean_squared_error: 3113970827264.0000 - val_loss: 5060382162944.0000 - val_mean_squared_error: 5060382162944.0000\n",
            "Epoch 37/100\n",
            "\u001b[1m28/28\u001b[0m \u001b[32m━━━━━━━━━━━━━━━━━━━━\u001b[0m\u001b[37m\u001b[0m \u001b[1m0s\u001b[0m 5ms/step - loss: 3328487194624.0000 - mean_squared_error: 3328487194624.0000 - val_loss: 5076358266880.0000 - val_mean_squared_error: 5076358266880.0000\n",
            "Epoch 38/100\n",
            "\u001b[1m28/28\u001b[0m \u001b[32m━━━━━━━━━━━━━━━━━━━━\u001b[0m\u001b[37m\u001b[0m \u001b[1m0s\u001b[0m 5ms/step - loss: 3135940329472.0000 - mean_squared_error: 3135940329472.0000 - val_loss: 5055278743552.0000 - val_mean_squared_error: 5055278743552.0000\n",
            "Epoch 39/100\n",
            "\u001b[1m28/28\u001b[0m \u001b[32m━━━━━━━━━━━━━━━━━━━━\u001b[0m\u001b[37m\u001b[0m \u001b[1m0s\u001b[0m 5ms/step - loss: 3522366537728.0000 - mean_squared_error: 3522366537728.0000 - val_loss: 5204321763328.0000 - val_mean_squared_error: 5204321763328.0000\n",
            "Epoch 40/100\n",
            "\u001b[1m28/28\u001b[0m \u001b[32m━━━━━━━━━━━━━━━━━━━━\u001b[0m\u001b[37m\u001b[0m \u001b[1m0s\u001b[0m 5ms/step - loss: 3364610113536.0000 - mean_squared_error: 3364610113536.0000 - val_loss: 5356917882880.0000 - val_mean_squared_error: 5356917882880.0000\n",
            "Epoch 41/100\n",
            "\u001b[1m28/28\u001b[0m \u001b[32m━━━━━━━━━━━━━━━━━━━━\u001b[0m\u001b[37m\u001b[0m \u001b[1m0s\u001b[0m 5ms/step - loss: 3477484863488.0000 - mean_squared_error: 3477484863488.0000 - val_loss: 5228898811904.0000 - val_mean_squared_error: 5228898811904.0000\n",
            "Epoch 42/100\n",
            "\u001b[1m28/28\u001b[0m \u001b[32m━━━━━━━━━━━━━━━━━━━━\u001b[0m\u001b[37m\u001b[0m \u001b[1m0s\u001b[0m 6ms/step - loss: 3414549594112.0000 - mean_squared_error: 3414549594112.0000 - val_loss: 5085822189568.0000 - val_mean_squared_error: 5085822189568.0000\n",
            "Epoch 43/100\n",
            "\u001b[1m28/28\u001b[0m \u001b[32m━━━━━━━━━━━━━━━━━━━━\u001b[0m\u001b[37m\u001b[0m \u001b[1m0s\u001b[0m 5ms/step - loss: 3104520273920.0000 - mean_squared_error: 3104520273920.0000 - val_loss: 5216989085696.0000 - val_mean_squared_error: 5216989085696.0000\n",
            "Epoch 44/100\n",
            "\u001b[1m28/28\u001b[0m \u001b[32m━━━━━━━━━━━━━━━━━━━━\u001b[0m\u001b[37m\u001b[0m \u001b[1m0s\u001b[0m 5ms/step - loss: 2576587685888.0000 - mean_squared_error: 2576587685888.0000 - val_loss: 5112033968128.0000 - val_mean_squared_error: 5112033968128.0000\n",
            "Epoch 45/100\n",
            "\u001b[1m28/28\u001b[0m \u001b[32m━━━━━━━━━━━━━━━━━━━━\u001b[0m\u001b[37m\u001b[0m \u001b[1m0s\u001b[0m 5ms/step - loss: 3242909499392.0000 - mean_squared_error: 3242909499392.0000 - val_loss: 5061054824448.0000 - val_mean_squared_error: 5061054824448.0000\n",
            "Epoch 46/100\n",
            "\u001b[1m28/28\u001b[0m \u001b[32m━━━━━━━━━━━━━━━━━━━━\u001b[0m\u001b[37m\u001b[0m \u001b[1m0s\u001b[0m 5ms/step - loss: 3073495269376.0000 - mean_squared_error: 3073495269376.0000 - val_loss: 5341782212608.0000 - val_mean_squared_error: 5341782212608.0000\n",
            "Epoch 47/100\n",
            "\u001b[1m28/28\u001b[0m \u001b[32m━━━━━━━━━━━━━━━━━━━━\u001b[0m\u001b[37m\u001b[0m \u001b[1m0s\u001b[0m 5ms/step - loss: 3341253607424.0000 - mean_squared_error: 3341253607424.0000 - val_loss: 5209331335168.0000 - val_mean_squared_error: 5209331335168.0000\n",
            "Epoch 48/100\n",
            "\u001b[1m28/28\u001b[0m \u001b[32m━━━━━━━━━━━━━━━━━━━━\u001b[0m\u001b[37m\u001b[0m \u001b[1m0s\u001b[0m 5ms/step - loss: 2985592881152.0000 - mean_squared_error: 2985592881152.0000 - val_loss: 5312243302400.0000 - val_mean_squared_error: 5312243302400.0000\n",
            "Epoch 49/100\n",
            "\u001b[1m28/28\u001b[0m \u001b[32m━━━━━━━━━━━━━━━━━━━━\u001b[0m\u001b[37m\u001b[0m \u001b[1m0s\u001b[0m 6ms/step - loss: 3444404125696.0000 - mean_squared_error: 3444404125696.0000 - val_loss: 5183468732416.0000 - val_mean_squared_error: 5183468732416.0000\n",
            "Epoch 50/100\n",
            "\u001b[1m28/28\u001b[0m \u001b[32m━━━━━━━━━━━━━━━━━━━━\u001b[0m\u001b[37m\u001b[0m \u001b[1m0s\u001b[0m 5ms/step - loss: 2970162561024.0000 - mean_squared_error: 2970162561024.0000 - val_loss: 5118854430720.0000 - val_mean_squared_error: 5118854430720.0000\n",
            "Epoch 51/100\n",
            "\u001b[1m28/28\u001b[0m \u001b[32m━━━━━━━━━━━━━━━━━━━━\u001b[0m\u001b[37m\u001b[0m \u001b[1m0s\u001b[0m 5ms/step - loss: 2822703939584.0000 - mean_squared_error: 2822703939584.0000 - val_loss: 5215250022400.0000 - val_mean_squared_error: 5215250022400.0000\n",
            "Epoch 52/100\n",
            "\u001b[1m28/28\u001b[0m \u001b[32m━━━━━━━━━━━━━━━━━━━━\u001b[0m\u001b[37m\u001b[0m \u001b[1m0s\u001b[0m 5ms/step - loss: 2767403876352.0000 - mean_squared_error: 2767403876352.0000 - val_loss: 5228720029696.0000 - val_mean_squared_error: 5228720029696.0000\n",
            "Epoch 53/100\n",
            "\u001b[1m28/28\u001b[0m \u001b[32m━━━━━━━━━━━━━━━━━━━━\u001b[0m\u001b[37m\u001b[0m \u001b[1m0s\u001b[0m 5ms/step - loss: 3014924697600.0000 - mean_squared_error: 3014924697600.0000 - val_loss: 5142896705536.0000 - val_mean_squared_error: 5142896181248.0000\n",
            "Epoch 54/100\n",
            "\u001b[1m28/28\u001b[0m \u001b[32m━━━━━━━━━━━━━━━━━━━━\u001b[0m\u001b[37m\u001b[0m \u001b[1m0s\u001b[0m 6ms/step - loss: 3560598142976.0000 - mean_squared_error: 3560598142976.0000 - val_loss: 5110403432448.0000 - val_mean_squared_error: 5110403432448.0000\n",
            "Epoch 55/100\n",
            "\u001b[1m28/28\u001b[0m \u001b[32m━━━━━━━━━━━━━━━━━━━━\u001b[0m\u001b[37m\u001b[0m \u001b[1m0s\u001b[0m 5ms/step - loss: 3097925779456.0000 - mean_squared_error: 3097925779456.0000 - val_loss: 5406011162624.0000 - val_mean_squared_error: 5406011162624.0000\n",
            "Epoch 56/100\n",
            "\u001b[1m28/28\u001b[0m \u001b[32m━━━━━━━━━━━━━━━━━━━━\u001b[0m\u001b[37m\u001b[0m \u001b[1m0s\u001b[0m 4ms/step - loss: 3072895221760.0000 - mean_squared_error: 3072895221760.0000 - val_loss: 5108970029056.0000 - val_mean_squared_error: 5108970029056.0000\n",
            "Epoch 57/100\n",
            "\u001b[1m28/28\u001b[0m \u001b[32m━━━━━━━━━━━━━━━━━━━━\u001b[0m\u001b[37m\u001b[0m \u001b[1m0s\u001b[0m 5ms/step - loss: 3439161245696.0000 - mean_squared_error: 3439161245696.0000 - val_loss: 5936365699072.0000 - val_mean_squared_error: 5936365699072.0000\n",
            "Epoch 58/100\n",
            "\u001b[1m28/28\u001b[0m \u001b[32m━━━━━━━━━━━━━━━━━━━━\u001b[0m\u001b[37m\u001b[0m \u001b[1m0s\u001b[0m 5ms/step - loss: 3082171449344.0000 - mean_squared_error: 3082171449344.0000 - val_loss: 5418233364480.0000 - val_mean_squared_error: 5418233364480.0000\n",
            "Epoch 59/100\n",
            "\u001b[1m28/28\u001b[0m \u001b[32m━━━━━━━━━━━━━━━━━━━━\u001b[0m\u001b[37m\u001b[0m \u001b[1m0s\u001b[0m 5ms/step - loss: 3437696909312.0000 - mean_squared_error: 3437696909312.0000 - val_loss: 5552870522880.0000 - val_mean_squared_error: 5552870522880.0000\n",
            "Epoch 60/100\n",
            "\u001b[1m28/28\u001b[0m \u001b[32m━━━━━━━━━━━━━━━━━━━━\u001b[0m\u001b[37m\u001b[0m \u001b[1m0s\u001b[0m 5ms/step - loss: 2755631513600.0000 - mean_squared_error: 2755631513600.0000 - val_loss: 5288531853312.0000 - val_mean_squared_error: 5288531853312.0000\n",
            "Epoch 61/100\n",
            "\u001b[1m28/28\u001b[0m \u001b[32m━━━━━━━━━━━━━━━━━━━━\u001b[0m\u001b[37m\u001b[0m \u001b[1m0s\u001b[0m 4ms/step - loss: 2757998673920.0000 - mean_squared_error: 2757998673920.0000 - val_loss: 5158724960256.0000 - val_mean_squared_error: 5158724960256.0000\n",
            "Epoch 62/100\n",
            "\u001b[1m28/28\u001b[0m \u001b[32m━━━━━━━━━━━━━━━━━━━━\u001b[0m\u001b[37m\u001b[0m \u001b[1m0s\u001b[0m 5ms/step - loss: 2799886401536.0000 - mean_squared_error: 2799886401536.0000 - val_loss: 5215385812992.0000 - val_mean_squared_error: 5215385812992.0000\n",
            "Epoch 63/100\n",
            "\u001b[1m28/28\u001b[0m \u001b[32m━━━━━━━━━━━━━━━━━━━━\u001b[0m\u001b[37m\u001b[0m \u001b[1m0s\u001b[0m 5ms/step - loss: 2972155117568.0000 - mean_squared_error: 2972155117568.0000 - val_loss: 5407337611264.0000 - val_mean_squared_error: 5407337611264.0000\n",
            "Epoch 64/100\n",
            "\u001b[1m28/28\u001b[0m \u001b[32m━━━━━━━━━━━━━━━━━━━━\u001b[0m\u001b[37m\u001b[0m \u001b[1m0s\u001b[0m 5ms/step - loss: 3142947176448.0000 - mean_squared_error: 3142947176448.0000 - val_loss: 5061227839488.0000 - val_mean_squared_error: 5061227839488.0000\n",
            "Epoch 65/100\n",
            "\u001b[1m28/28\u001b[0m \u001b[32m━━━━━━━━━━━━━━━━━━━━\u001b[0m\u001b[37m\u001b[0m \u001b[1m0s\u001b[0m 4ms/step - loss: 2728104034304.0000 - mean_squared_error: 2728104034304.0000 - val_loss: 5056262307840.0000 - val_mean_squared_error: 5056262307840.0000\n",
            "Epoch 66/100\n",
            "\u001b[1m28/28\u001b[0m \u001b[32m━━━━━━━━━━━━━━━━━━━━\u001b[0m\u001b[37m\u001b[0m \u001b[1m0s\u001b[0m 5ms/step - loss: 3095285202944.0000 - mean_squared_error: 3095285202944.0000 - val_loss: 5063218561024.0000 - val_mean_squared_error: 5063218561024.0000\n",
            "Epoch 67/100\n",
            "\u001b[1m28/28\u001b[0m \u001b[32m━━━━━━━━━━━━━━━━━━━━\u001b[0m\u001b[37m\u001b[0m \u001b[1m0s\u001b[0m 6ms/step - loss: 3465246146560.0000 - mean_squared_error: 3465246146560.0000 - val_loss: 5076927643648.0000 - val_mean_squared_error: 5076927643648.0000\n",
            "Epoch 68/100\n",
            "\u001b[1m28/28\u001b[0m \u001b[32m━━━━━━━━━━━━━━━━━━━━\u001b[0m\u001b[37m\u001b[0m \u001b[1m0s\u001b[0m 5ms/step - loss: 3028657897472.0000 - mean_squared_error: 3028657897472.0000 - val_loss: 5282941894656.0000 - val_mean_squared_error: 5282941894656.0000\n",
            "Epoch 69/100\n",
            "\u001b[1m28/28\u001b[0m \u001b[32m━━━━━━━━━━━━━━━━━━━━\u001b[0m\u001b[37m\u001b[0m \u001b[1m0s\u001b[0m 4ms/step - loss: 3366051119104.0000 - mean_squared_error: 3366051119104.0000 - val_loss: 5706702389248.0000 - val_mean_squared_error: 5706702389248.0000\n",
            "Epoch 70/100\n",
            "\u001b[1m28/28\u001b[0m \u001b[32m━━━━━━━━━━━━━━━━━━━━\u001b[0m\u001b[37m\u001b[0m \u001b[1m0s\u001b[0m 4ms/step - loss: 3252640808960.0000 - mean_squared_error: 3252640808960.0000 - val_loss: 5625308774400.0000 - val_mean_squared_error: 5625308774400.0000\n",
            "Epoch 71/100\n",
            "\u001b[1m28/28\u001b[0m \u001b[32m━━━━━━━━━━━━━━━━━━━━\u001b[0m\u001b[37m\u001b[0m \u001b[1m0s\u001b[0m 5ms/step - loss: 2818546597888.0000 - mean_squared_error: 2818546597888.0000 - val_loss: 5062477742080.0000 - val_mean_squared_error: 5062477742080.0000\n",
            "Epoch 72/100\n",
            "\u001b[1m28/28\u001b[0m \u001b[32m━━━━━━━━━━━━━━━━━━━━\u001b[0m\u001b[37m\u001b[0m \u001b[1m0s\u001b[0m 4ms/step - loss: 3207819165696.0000 - mean_squared_error: 3207819165696.0000 - val_loss: 5068357107712.0000 - val_mean_squared_error: 5068357107712.0000\n",
            "Epoch 73/100\n",
            "\u001b[1m28/28\u001b[0m \u001b[32m━━━━━━━━━━━━━━━━━━━━\u001b[0m\u001b[37m\u001b[0m \u001b[1m0s\u001b[0m 6ms/step - loss: 2701311344640.0000 - mean_squared_error: 2701311344640.0000 - val_loss: 5123704094720.0000 - val_mean_squared_error: 5123704094720.0000\n",
            "Epoch 74/100\n",
            "\u001b[1m28/28\u001b[0m \u001b[32m━━━━━━━━━━━━━━━━━━━━\u001b[0m\u001b[37m\u001b[0m \u001b[1m0s\u001b[0m 4ms/step - loss: 3902968692736.0000 - mean_squared_error: 3902968692736.0000 - val_loss: 5066508468224.0000 - val_mean_squared_error: 5066508468224.0000\n",
            "Epoch 75/100\n",
            "\u001b[1m28/28\u001b[0m \u001b[32m━━━━━━━━━━━━━━━━━━━━\u001b[0m\u001b[37m\u001b[0m \u001b[1m0s\u001b[0m 6ms/step - loss: 3327374393344.0000 - mean_squared_error: 3327374393344.0000 - val_loss: 5465103138816.0000 - val_mean_squared_error: 5465103138816.0000\n",
            "Epoch 76/100\n",
            "\u001b[1m28/28\u001b[0m \u001b[32m━━━━━━━━━━━━━━━━━━━━\u001b[0m\u001b[37m\u001b[0m \u001b[1m0s\u001b[0m 8ms/step - loss: 2659380363264.0000 - mean_squared_error: 2659380363264.0000 - val_loss: 5082851049472.0000 - val_mean_squared_error: 5082851049472.0000\n",
            "Epoch 77/100\n",
            "\u001b[1m28/28\u001b[0m \u001b[32m━━━━━━━━━━━━━━━━━━━━\u001b[0m\u001b[37m\u001b[0m \u001b[1m0s\u001b[0m 8ms/step - loss: 3102877155328.0000 - mean_squared_error: 3102877155328.0000 - val_loss: 5534903697408.0000 - val_mean_squared_error: 5534903697408.0000\n",
            "Epoch 78/100\n",
            "\u001b[1m28/28\u001b[0m \u001b[32m━━━━━━━━━━━━━━━━━━━━\u001b[0m\u001b[37m\u001b[0m \u001b[1m0s\u001b[0m 7ms/step - loss: 3461057347584.0000 - mean_squared_error: 3461057347584.0000 - val_loss: 5392683237376.0000 - val_mean_squared_error: 5392683237376.0000\n",
            "Epoch 79/100\n",
            "\u001b[1m28/28\u001b[0m \u001b[32m━━━━━━━━━━━━━━━━━━━━\u001b[0m\u001b[37m\u001b[0m \u001b[1m0s\u001b[0m 7ms/step - loss: 3005117366272.0000 - mean_squared_error: 3005117366272.0000 - val_loss: 5854502322176.0000 - val_mean_squared_error: 5854502322176.0000\n",
            "Epoch 80/100\n",
            "\u001b[1m28/28\u001b[0m \u001b[32m━━━━━━━━━━━━━━━━━━━━\u001b[0m\u001b[37m\u001b[0m \u001b[1m0s\u001b[0m 11ms/step - loss: 2804758872064.0000 - mean_squared_error: 2804758872064.0000 - val_loss: 5150372528128.0000 - val_mean_squared_error: 5150372528128.0000\n",
            "Epoch 81/100\n",
            "\u001b[1m28/28\u001b[0m \u001b[32m━━━━━━━━━━━━━━━━━━━━\u001b[0m\u001b[37m\u001b[0m \u001b[1m1s\u001b[0m 7ms/step - loss: 3637477900288.0000 - mean_squared_error: 3637477900288.0000 - val_loss: 5085289512960.0000 - val_mean_squared_error: 5085289512960.0000\n",
            "Epoch 82/100\n",
            "\u001b[1m28/28\u001b[0m \u001b[32m━━━━━━━━━━━━━━━━━━━━\u001b[0m\u001b[37m\u001b[0m \u001b[1m0s\u001b[0m 4ms/step - loss: 3160729452544.0000 - mean_squared_error: 3160729452544.0000 - val_loss: 5137526423552.0000 - val_mean_squared_error: 5137526423552.0000\n",
            "Epoch 83/100\n",
            "\u001b[1m28/28\u001b[0m \u001b[32m━━━━━━━━━━━━━━━━━━━━\u001b[0m\u001b[37m\u001b[0m \u001b[1m0s\u001b[0m 4ms/step - loss: 2943485214720.0000 - mean_squared_error: 2943485214720.0000 - val_loss: 5236923564032.0000 - val_mean_squared_error: 5236923564032.0000\n",
            "Epoch 84/100\n",
            "\u001b[1m28/28\u001b[0m \u001b[32m━━━━━━━━━━━━━━━━━━━━\u001b[0m\u001b[37m\u001b[0m \u001b[1m0s\u001b[0m 6ms/step - loss: 2856759066624.0000 - mean_squared_error: 2856759066624.0000 - val_loss: 5212120023040.0000 - val_mean_squared_error: 5212120023040.0000\n",
            "Epoch 85/100\n",
            "\u001b[1m28/28\u001b[0m \u001b[32m━━━━━━━━━━━━━━━━━━━━\u001b[0m\u001b[37m\u001b[0m \u001b[1m0s\u001b[0m 4ms/step - loss: 2686743216128.0000 - mean_squared_error: 2686743216128.0000 - val_loss: 5546036953088.0000 - val_mean_squared_error: 5546036953088.0000\n",
            "Epoch 86/100\n",
            "\u001b[1m28/28\u001b[0m \u001b[32m━━━━━━━━━━━━━━━━━━━━\u001b[0m\u001b[37m\u001b[0m \u001b[1m0s\u001b[0m 5ms/step - loss: 3057215078400.0000 - mean_squared_error: 3057215078400.0000 - val_loss: 5055036522496.0000 - val_mean_squared_error: 5055036522496.0000\n",
            "Epoch 87/100\n",
            "\u001b[1m28/28\u001b[0m \u001b[32m━━━━━━━━━━━━━━━━━━━━\u001b[0m\u001b[37m\u001b[0m \u001b[1m0s\u001b[0m 4ms/step - loss: 3386946617344.0000 - mean_squared_error: 3386946617344.0000 - val_loss: 5454832336896.0000 - val_mean_squared_error: 5454832336896.0000\n",
            "Epoch 88/100\n",
            "\u001b[1m28/28\u001b[0m \u001b[32m━━━━━━━━━━━━━━━━━━━━\u001b[0m\u001b[37m\u001b[0m \u001b[1m0s\u001b[0m 6ms/step - loss: 3172370481152.0000 - mean_squared_error: 3172370481152.0000 - val_loss: 5338750779392.0000 - val_mean_squared_error: 5338750779392.0000\n",
            "Epoch 89/100\n",
            "\u001b[1m28/28\u001b[0m \u001b[32m━━━━━━━━━━━━━━━━━━━━\u001b[0m\u001b[37m\u001b[0m \u001b[1m0s\u001b[0m 4ms/step - loss: 2736489496576.0000 - mean_squared_error: 2736489496576.0000 - val_loss: 5325829701632.0000 - val_mean_squared_error: 5325829701632.0000\n",
            "Epoch 90/100\n",
            "\u001b[1m28/28\u001b[0m \u001b[32m━━━━━━━━━━━━━━━━━━━━\u001b[0m\u001b[37m\u001b[0m \u001b[1m0s\u001b[0m 5ms/step - loss: 3617938735104.0000 - mean_squared_error: 3617938735104.0000 - val_loss: 5398571515904.0000 - val_mean_squared_error: 5398571515904.0000\n",
            "Epoch 91/100\n",
            "\u001b[1m28/28\u001b[0m \u001b[32m━━━━━━━━━━━━━━━━━━━━\u001b[0m\u001b[37m\u001b[0m \u001b[1m0s\u001b[0m 4ms/step - loss: 3184303538176.0000 - mean_squared_error: 3184303538176.0000 - val_loss: 5104186425344.0000 - val_mean_squared_error: 5104186425344.0000\n",
            "Epoch 92/100\n",
            "\u001b[1m28/28\u001b[0m \u001b[32m━━━━━━━━━━━━━━━━━━━━\u001b[0m\u001b[37m\u001b[0m \u001b[1m0s\u001b[0m 4ms/step - loss: 3195734589440.0000 - mean_squared_error: 3195734589440.0000 - val_loss: 5270291349504.0000 - val_mean_squared_error: 5270291349504.0000\n",
            "Epoch 93/100\n",
            "\u001b[1m28/28\u001b[0m \u001b[32m━━━━━━━━━━━━━━━━━━━━\u001b[0m\u001b[37m\u001b[0m \u001b[1m0s\u001b[0m 6ms/step - loss: 2682196328448.0000 - mean_squared_error: 2682196328448.0000 - val_loss: 5171359776768.0000 - val_mean_squared_error: 5171359776768.0000\n",
            "Epoch 94/100\n",
            "\u001b[1m28/28\u001b[0m \u001b[32m━━━━━━━━━━━━━━━━━━━━\u001b[0m\u001b[37m\u001b[0m \u001b[1m0s\u001b[0m 4ms/step - loss: 3165358129152.0000 - mean_squared_error: 3165358129152.0000 - val_loss: 5261908508672.0000 - val_mean_squared_error: 5261908508672.0000\n",
            "Epoch 95/100\n",
            "\u001b[1m28/28\u001b[0m \u001b[32m━━━━━━━━━━━━━━━━━━━━\u001b[0m\u001b[37m\u001b[0m \u001b[1m0s\u001b[0m 5ms/step - loss: 2722308816896.0000 - mean_squared_error: 2722308816896.0000 - val_loss: 5511406682112.0000 - val_mean_squared_error: 5511406682112.0000\n",
            "Epoch 96/100\n",
            "\u001b[1m28/28\u001b[0m \u001b[32m━━━━━━━━━━━━━━━━━━━━\u001b[0m\u001b[37m\u001b[0m \u001b[1m0s\u001b[0m 5ms/step - loss: 3442136842240.0000 - mean_squared_error: 3442136842240.0000 - val_loss: 5068843122688.0000 - val_mean_squared_error: 5068843122688.0000\n",
            "Epoch 97/100\n",
            "\u001b[1m28/28\u001b[0m \u001b[32m━━━━━━━━━━━━━━━━━━━━\u001b[0m\u001b[37m\u001b[0m \u001b[1m0s\u001b[0m 5ms/step - loss: 3252022411264.0000 - mean_squared_error: 3252022411264.0000 - val_loss: 5105626120192.0000 - val_mean_squared_error: 5105626120192.0000\n",
            "Epoch 98/100\n",
            "\u001b[1m28/28\u001b[0m \u001b[32m━━━━━━━━━━━━━━━━━━━━\u001b[0m\u001b[37m\u001b[0m \u001b[1m0s\u001b[0m 6ms/step - loss: 3095851433984.0000 - mean_squared_error: 3095851433984.0000 - val_loss: 5233339006976.0000 - val_mean_squared_error: 5233339006976.0000\n",
            "Epoch 99/100\n",
            "\u001b[1m28/28\u001b[0m \u001b[32m━━━━━━━━━━━━━━━━━━━━\u001b[0m\u001b[37m\u001b[0m \u001b[1m0s\u001b[0m 4ms/step - loss: 3269143298048.0000 - mean_squared_error: 3269143298048.0000 - val_loss: 5055939870720.0000 - val_mean_squared_error: 5055939870720.0000\n",
            "Epoch 100/100\n",
            "\u001b[1m28/28\u001b[0m \u001b[32m━━━━━━━━━━━━━━━━━━━━\u001b[0m\u001b[37m\u001b[0m \u001b[1m0s\u001b[0m 5ms/step - loss: 3084368216064.0000 - mean_squared_error: 3084368216064.0000 - val_loss: 5510853033984.0000 - val_mean_squared_error: 5510853033984.0000\n"
          ]
        }
      ]
    },
    {
      "cell_type": "code",
      "source": [
        "# Calculate the training error\n",
        "train_loss, train_mse = model.evaluate(X_train, y_train)\n",
        "print(f\"Training MSE: {train_mse}\")\n",
        "\n",
        "# Calculate the testing error\n",
        "test_loss, test_mse = model.evaluate(X_test, y_test)\n",
        "print(f\"Testing MSE: {test_mse}\")\n"
      ],
      "metadata": {
        "colab": {
          "base_uri": "https://localhost:8080/"
        },
        "id": "Uq2JiMxTbAn-",
        "outputId": "d0ba2a0c-807c-47b2-99df-020095cf91e4"
      },
      "execution_count": 11,
      "outputs": [
        {
          "output_type": "stream",
          "name": "stdout",
          "text": [
            "\u001b[1m14/14\u001b[0m \u001b[32m━━━━━━━━━━━━━━━━━━━━\u001b[0m\u001b[37m\u001b[0m \u001b[1m0s\u001b[0m 3ms/step - loss: 3240760180736.0000 - mean_squared_error: 3240760180736.0000 \n",
            "Training MSE: 3221018116096.0\n",
            "\u001b[1m4/4\u001b[0m \u001b[32m━━━━━━━━━━━━━━━━━━━━\u001b[0m\u001b[37m\u001b[0m \u001b[1m0s\u001b[0m 10ms/step - loss: 5478661750784.0000 - mean_squared_error: 5478661750784.0000\n",
            "Testing MSE: 5510853033984.0\n"
          ]
        }
      ]
    },
    {
      "cell_type": "code",
      "source": [
        "# Save the trained model\n",
        "model.save('housing_price_model.h5')\n"
      ],
      "metadata": {
        "colab": {
          "base_uri": "https://localhost:8080/"
        },
        "id": "HSZDWeQkbEUF",
        "outputId": "0bf448a4-5fcf-4a73-df12-edb5089708b3"
      },
      "execution_count": 12,
      "outputs": [
        {
          "output_type": "stream",
          "name": "stderr",
          "text": [
            "WARNING:absl:You are saving your model as an HDF5 file via `model.save()` or `keras.saving.save_model(model)`. This file format is considered legacy. We recommend using instead the native Keras format, e.g. `model.save('my_model.keras')` or `keras.saving.save_model(model, 'my_model.keras')`. \n"
          ]
        }
      ]
    },
    {
      "cell_type": "code",
      "source": [
        "from tensorflow.keras.models import load_model\n",
        "\n",
        "# Load the saved model\n",
        "loaded_model = load_model('housing_price_model.h5')\n",
        "\n",
        "# Make predictions on the test data\n",
        "predictions = loaded_model.predict(X_test)\n",
        "\n",
        "# Example: Compare predictions with actual values\n",
        "for actual, predicted in zip(y_test[:10], predictions[:10]):\n",
        "    print(f\"Actual: {actual}, Predicted: {predicted[0]}\")\n"
      ],
      "metadata": {
        "colab": {
          "base_uri": "https://localhost:8080/"
        },
        "id": "HwlLxPlYbIVN",
        "outputId": "1ddca1c9-db1b-47c8-9187-83acd98b12b5"
      },
      "execution_count": 13,
      "outputs": [
        {
          "output_type": "stream",
          "name": "stderr",
          "text": [
            "WARNING:absl:Compiled the loaded model, but the compiled metrics have yet to be built. `model.compile_metrics` will be empty until you train or evaluate the model.\n"
          ]
        },
        {
          "output_type": "stream",
          "name": "stdout",
          "text": [
            "\u001b[1m4/4\u001b[0m \u001b[32m━━━━━━━━━━━━━━━━━━━━\u001b[0m\u001b[37m\u001b[0m \u001b[1m0s\u001b[0m 33ms/step\n",
            "Actual: 4060000, Predicted: 4332049.5\n",
            "Actual: 6650000, Predicted: 4332049.5\n",
            "Actual: 3710000, Predicted: 4332049.5\n",
            "Actual: 6440000, Predicted: 4332049.5\n",
            "Actual: 2800000, Predicted: 4332049.5\n",
            "Actual: 4900000, Predicted: 4332049.5\n",
            "Actual: 5250000, Predicted: 4332049.5\n",
            "Actual: 4543000, Predicted: 4332049.5\n",
            "Actual: 2450000, Predicted: 4332049.5\n",
            "Actual: 3353000, Predicted: 4332049.5\n"
          ]
        }
      ]
    }
  ]
}